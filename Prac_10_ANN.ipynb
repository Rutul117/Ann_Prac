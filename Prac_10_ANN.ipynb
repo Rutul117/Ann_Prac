{
 "cells": [
  {
   "cell_type": "code",
   "execution_count": 1,
   "id": "072766b8-e8f9-4540-b465-2ccca1076b67",
   "metadata": {},
   "outputs": [],
   "source": [
    "import numpy as np"
   ]
  },
  {
   "cell_type": "code",
   "execution_count": 2,
   "id": "34dd99c5-f8f8-41cf-9087-0b1435095ab1",
   "metadata": {},
   "outputs": [],
   "source": [
    "# Define the input vectors\n",
    "vectors = np.array([[1,1,-1,-1],\n",
    "                    [1,-1,1,-1],\n",
    "                    [-1,1,-1,1],\n",
    "                    [-1,-1,1,1]])"
   ]
  },
  {
   "cell_type": "code",
   "execution_count": 3,
   "id": "9242ef1f-8f7e-478a-bec2-53edd7c7e22f",
   "metadata": {},
   "outputs": [],
   "source": [
    "# Define weight matrix\n",
    "weights = np.zeros((4,4))\n",
    "for i in range(4):\n",
    "    for j in range(4):\n",
    "        if i == j:\n",
    "            weights[i][j] = 0\n",
    "        else:\n",
    "            weights[i][j] = (vectors[i] @ vectors[j]) / 4\n",
    "\n"
   ]
  },
  {
   "cell_type": "code",
   "execution_count": 4,
   "id": "6c6a638c-bae4-4c72-8872-f9336e0ce3ea",
   "metadata": {},
   "outputs": [],
   "source": [
    "# Define the activation function\n",
    "def activation_function(x):\n",
    "    if x >= 0:\n",
    "        return 1\n",
    "    else:\n",
    "        return -1"
   ]
  },
  {
   "cell_type": "code",
   "execution_count": 5,
   "id": "b0cf2b96-15b3-4de3-8c9d-ec98776bc87c",
   "metadata": {},
   "outputs": [],
   "source": [
    "# Define the Hopfield Network function\n",
    "def hopfield_network(x, weights):\n",
    "    y = np.copy(x)\n",
    "    for i in range(4):\n",
    "        sum = 0\n",
    "        for j in range(4):\n",
    "            sum += weights[i][j] * y[j]\n",
    "        y[i] = activation_function(sum)\n",
    "    return y"
   ]
  },
  {
   "cell_type": "code",
   "execution_count": 6,
   "id": "e009f5be-75c1-442a-b337-cff794275494",
   "metadata": {},
   "outputs": [
    {
     "name": "stdout",
     "output_type": "stream",
     "text": [
      "Input vector:  [ 1  1 -1 -1]\n",
      "Output vector:  [ 1  1 -1 -1]\n",
      "\n",
      "Input vector:  [ 1 -1  1 -1]\n",
      "Output vector:  [ 1 -1  1 -1]\n",
      "\n",
      "Input vector:  [-1  1 -1  1]\n",
      "Output vector:  [-1  1 -1  1]\n",
      "\n",
      "Input vector:  [-1 -1  1  1]\n",
      "Output vector:  [-1 -1  1  1]\n",
      "\n"
     ]
    }
   ],
   "source": [
    "# Test the Hopfield Network function\n",
    "for i in range(4):\n",
    "    print(\"Input vector: \", vectors[i])\n",
    "    output = hopfield_network(vectors[i], weights)\n",
    "    print(\"Output vector: \", output)\n",
    "    print()"
   ]
  },
  {
   "cell_type": "code",
   "execution_count": null,
   "id": "1200775a-7070-4661-b876-dda74fbdec62",
   "metadata": {},
   "outputs": [],
   "source": []
  }
 ],
 "metadata": {
  "kernelspec": {
   "display_name": "Python 3 (ipykernel)",
   "language": "python",
   "name": "python3"
  },
  "language_info": {
   "codemirror_mode": {
    "name": "ipython",
    "version": 3
   },
   "file_extension": ".py",
   "mimetype": "text/x-python",
   "name": "python",
   "nbconvert_exporter": "python",
   "pygments_lexer": "ipython3",
   "version": "3.12.2"
  }
 },
 "nbformat": 4,
 "nbformat_minor": 5
}
