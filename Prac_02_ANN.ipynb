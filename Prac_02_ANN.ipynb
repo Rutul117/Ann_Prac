{
 "cells": [
  {
   "cell_type": "code",
   "execution_count": 25,
   "id": "f372d4ea-85ee-4344-bb40-908b0c742656",
   "metadata": {},
   "outputs": [],
   "source": [
    "import numpy as np"
   ]
  },
  {
   "cell_type": "code",
   "execution_count": 26,
   "id": "36463a45-64db-4d57-a387-688399143932",
   "metadata": {},
   "outputs": [],
   "source": [
    "def mp_neuron(inputs, weights, threshold):\n",
    "    #Compute the dot product of the inputs and weights\n",
    "    net = np.dot(inputs, weights)\n",
    "    # Apply the threshold function\n",
    "    if net >= threshold:\n",
    "        output =1\n",
    "    else:\n",
    "        output = 0\n",
    "    return output\n",
    "    "
   ]
  },
  {
   "cell_type": "code",
   "execution_count": 27,
   "id": "663d48da-775d-4a34-99db-102872adf203",
   "metadata": {},
   "outputs": [],
   "source": [
    "def andnot_nn(inputs):\n",
    "    weigths = [-2,1]\n",
    "    threshold = 0\n",
    "    #Compute the output of the two neurons in the first layer\n",
    "    outputs = [mp_neuron(inputs, weights, threshold) for weights in [[-1,1],[1,-1]]]\n",
    "\n",
    "    #Compute the final output of the ANDNOT function\n",
    "    if outputs[0] == 1 and outputs[1] == 0:\n",
    "        output = 1\n",
    "    else:\n",
    "        output = 0\n",
    "    return output\n",
    "    "
   ]
  },
  {
   "cell_type": "code",
   "execution_count": 28,
   "id": "dcd23bf7-5b2e-4b04-a829-b2e20f77da1e",
   "metadata": {},
   "outputs": [
    {
     "name": "stdout",
     "output_type": "stream",
     "text": [
      "Inputs:  [[0 0]\n",
      " [0 1]\n",
      " [1 0]\n",
      " [1 1]]\n",
      "Ou:tputs:  [0, 1, 0, 0]\n"
     ]
    }
   ],
   "source": [
    "inputs = np.array([[0,0],[0,1],[1,0],[1,1]])\n",
    "outputs = []\n",
    "\n",
    "for i in range(inputs.shape[0]):\n",
    "    y = andnot_nn(inputs[i].reshape(1,-1))\n",
    "    outputs.append(y)\n",
    "\n",
    "print(\"Inputs: \" , inputs)\n",
    "print(\"Ou:tputs: \" , outputs)\n"
   ]
  },
  {
   "cell_type": "code",
   "execution_count": null,
   "id": "bf26649d-87c3-45ae-810f-6be454976d26",
   "metadata": {},
   "outputs": [],
   "source": []
  },
  {
   "cell_type": "code",
   "execution_count": null,
   "id": "183118f6-2766-42db-923c-c5dfeb0b093e",
   "metadata": {},
   "outputs": [],
   "source": []
  }
 ],
 "metadata": {
  "kernelspec": {
   "display_name": "Python 3 (ipykernel)",
   "language": "python",
   "name": "python3"
  },
  "language_info": {
   "codemirror_mode": {
    "name": "ipython",
    "version": 3
   },
   "file_extension": ".py",
   "mimetype": "text/x-python",
   "name": "python",
   "nbconvert_exporter": "python",
   "pygments_lexer": "ipython3",
   "version": "3.12.2"
  }
 },
 "nbformat": 4,
 "nbformat_minor": 5
}
