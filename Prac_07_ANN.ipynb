{
 "cells": [
  {
   "cell_type": "code",
   "execution_count": 11,
   "id": "76477780-fe77-4759-8166-80997056efd6",
   "metadata": {},
   "outputs": [],
   "source": [
    "import numpy as np"
   ]
  },
  {
   "cell_type": "code",
   "execution_count": 13,
   "id": "5256cd30-c5b4-420d-a3cc-35462624a2d0",
   "metadata": {},
   "outputs": [
    {
     "name": "stdout",
     "output_type": "stream",
     "text": [
      "[[0.]\n",
      " [1.]\n",
      " [1.]\n",
      " [0.]]\n"
     ]
    }
   ],
   "source": [
    "# Define Sigmoid Activation Function\n",
    "def sigmoid(x):\n",
    "    return 1/(1+np.exp(-x))\n",
    "\n",
    "# Define Derivative of Sigmoid Activation Function\n",
    "def sigmoid_derivative(x):\n",
    "    return x*(1-x)\n",
    "\n",
    "# Define XOR function Dataset\n",
    "X = np.array([[0,0],[0,1],[1,0],[1,1]])\n",
    "y = np.array([[0],[1],[1],[0]])\n",
    "\n",
    "# Define Neural Network Architecture\n",
    "input_layer_size = 2\n",
    "hidden_layer_size = 2\n",
    "output_layer_size = 1\n",
    "\n",
    "# Initialise Weights and Biases\n",
    "weights1 = np.random.uniform(size=(input_layer_size, hidden_layer_size))\n",
    "bias1 = np.random.uniform(size=(1, hidden_layer_size))\n",
    "weights2 = np.random.uniform(size=(hidden_layer_size, output_layer_size))\n",
    "bias2 = np.random.uniform(size=(1, output_layer_size))\n",
    "\n",
    "# Define Learning Rate and number of Epochs\n",
    "learning_rate = 0.1\n",
    "epochs = 10000\n",
    "\n",
    "# Train Neural Network with Back Propogation Algorithm\n",
    "for epoch in range(epochs):\n",
    "    # Forward Propogation\n",
    "    hidden_layer_output = sigmoid(np.dot(X, weights1) + bias1)\n",
    "    \n",
    "    output_layer_output = sigmoid(np.dot(hidden_layer_output, weights2) + bias2)\n",
    "\n",
    "    # Back Propogation\n",
    "    error = y - output_layer_output\n",
    "    output_layer_delta = error * sigmoid_derivative(output_layer_output)\n",
    "    \n",
    "    hidden_layer_error = output_layer_delta.dot(weights2.T)\n",
    "    hidden_layer_delta = hidden_layer_error * sigmoid_derivative(hidden_layer_output)\n",
    "\n",
    "\n",
    "\n",
    "    # Update Weights and Biases\n",
    "    weights2 += hidden_layer_output.T.dot(output_layer_delta) * learning_rate\n",
    "    bias2 += np.sum (output_layer_delta, axis=0, keepdims = True) * learning_rate\n",
    "\n",
    "    weights1 += X.T.dot(hidden_layer_delta) * learning_rate\n",
    "    bias1 += np.sum(hidden_layer_delta, axis=0, keepdims = True) * learning_rate\n",
    "\n",
    "# Predict XOR function\n",
    "predictions = sigmoid(np.dot(sigmoid(np.dot(X, weights1) + bias1), weights2) + bias2)\n",
    "print(predictions.round())"
   ]
  },
  {
   "cell_type": "code",
   "execution_count": null,
   "id": "fd991a2b-1062-48ba-bb8d-ba3196fdb79c",
   "metadata": {},
   "outputs": [],
   "source": []
  },
  {
   "cell_type": "code",
   "execution_count": null,
   "id": "4fb13cfd-a076-4483-9afb-8ffbd37bebd0",
   "metadata": {},
   "outputs": [],
   "source": []
  }
 ],
 "metadata": {
  "kernelspec": {
   "display_name": "Python 3 (ipykernel)",
   "language": "python",
   "name": "python3"
  },
  "language_info": {
   "codemirror_mode": {
    "name": "ipython",
    "version": 3
   },
   "file_extension": ".py",
   "mimetype": "text/x-python",
   "name": "python",
   "nbconvert_exporter": "python",
   "pygments_lexer": "ipython3",
   "version": "3.12.2"
  }
 },
 "nbformat": 4,
 "nbformat_minor": 5
}
