{
 "cells": [
  {
   "cell_type": "code",
   "execution_count": 23,
   "id": "183118f6-2766-42db-923c-c5dfeb0b093e",
   "metadata": {},
   "outputs": [
    {
     "name": "stdout",
     "output_type": "stream",
     "text": [
      "Inputs: [[0 0]\n",
      " [1 0]\n",
      " [0 1]\n",
      " [1 1]]\n",
      "Outputs: [0, 1, 0, 0]\n"
     ]
    }
   ],
   "source": [
    "import numpy as np\n",
    "\n",
    "def mp_neuron(inputs, weights, threshold):\n",
    "    # Compute the dot product of the inputs and weights\n",
    "    net = np.dot(inputs, weights)\n",
    "    # Apply the threshold function\n",
    "    if net >= threshold:\n",
    "        output = 1\n",
    "    else:\n",
    "        output = 0\n",
    "    return output\n",
    "\n",
    "def andnot_nn(inputs):\n",
    "    # Define weights and threshold for each neuron in the first layer\n",
    "    weights_1 = [-1, 1]\n",
    "    weights_2 = [1, -1]\n",
    "    threshold = 0\n",
    "    \n",
    "    # Compute the output of the two neurons in the first layer\n",
    "    output_1 = mp_neuron(inputs, weights_1, threshold)\n",
    "    output_2 = mp_neuron(inputs, weights_2, threshold)\n",
    "    \n",
    "    # Compute the final output of the ANDNOT function\n",
    "    if output_1 == 0 and output_2 == 1:\n",
    "        output = 1\n",
    "    else:\n",
    "        output = 0\n",
    "    return output\n",
    "    \n",
    "# Define input patterns for the ANDNOT function\n",
    "inputs = np.array([[0, 0], [1, 0], [0, 1], [1, 1]])\n",
    "outputs = []\n",
    "\n",
    "# Compute outputs for each input pattern\n",
    "for i in range(inputs.shape[0]):\n",
    "    y = andnot_nn(inputs[i])\n",
    "    outputs.append(y)\n",
    "\n",
    "# Print inputs and corresponding outputs\n",
    "print(\"Inputs:\", inputs)\n",
    "print(\"Outputs:\", outputs)\n"
   ]
  },
  {
   "cell_type": "code",
   "execution_count": null,
   "id": "4c421ea0-0616-4096-b7be-e302627f5ca4",
   "metadata": {},
   "outputs": [],
   "source": []
  }
 ],
 "metadata": {
  "kernelspec": {
   "display_name": "Python 3 (ipykernel)",
   "language": "python",
   "name": "python3"
  },
  "language_info": {
   "codemirror_mode": {
    "name": "ipython",
    "version": 3
   },
   "file_extension": ".py",
   "mimetype": "text/x-python",
   "name": "python",
   "nbconvert_exporter": "python",
   "pygments_lexer": "ipython3",
   "version": "3.12.2"
  }
 },
 "nbformat": 4,
 "nbformat_minor": 5
}
