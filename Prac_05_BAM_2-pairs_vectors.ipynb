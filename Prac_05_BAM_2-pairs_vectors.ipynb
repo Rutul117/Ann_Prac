{
 "cells": [
  {
   "cell_type": "code",
   "execution_count": 29,
   "id": "8c62dfb2-f426-4bfb-b279-30109fe0c07c",
   "metadata": {},
   "outputs": [],
   "source": [
    "import numpy as np"
   ]
  },
  {
   "cell_type": "code",
   "execution_count": 37,
   "id": "25c95b40-f15a-4939-b20b-56d1520b5225",
   "metadata": {},
   "outputs": [],
   "source": [
    "class BAM:\n",
    "    def __init__(self, input_size, output_size):\n",
    "        self.weights = np.zeros((output_size, input_size))\n",
    "\n",
    "    def train(self, input_patterns ,output_patterns):\n",
    "        for i in range(input_patterns.shape[0]):\n",
    "            x = input_patterns[i]\n",
    "            y = output_patterns[i]\n",
    "            self.weights +=np.outer(y,x)\n",
    "\n",
    "    def recall_input(self, output_patterns):\n",
    "        return np.dot(self.weights, output_patterns)\n",
    "\n",
    "    def recall_output(self, input_patterns):\n",
    "        return np.dot(self.weights, input_patterns)"
   ]
  },
  {
   "cell_type": "code",
   "execution_count": 38,
   "id": "e2cd9e9f-8c9c-488c-adfd-50cccefff975",
   "metadata": {},
   "outputs": [],
   "source": [
    "input_size = 2\n",
    "output_size = 2\n",
    "bam = BAM(input_size, output_size)"
   ]
  },
  {
   "cell_type": "code",
   "execution_count": 39,
   "id": "0e7147ca-5c83-4392-80c3-66561ce3e440",
   "metadata": {},
   "outputs": [
    {
     "data": {
      "text/plain": [
       "array([[0., 0.],\n",
       "       [0., 0.]])"
      ]
     },
     "execution_count": 39,
     "metadata": {},
     "output_type": "execute_result"
    }
   ],
   "source": [
    "bam.weights"
   ]
  },
  {
   "cell_type": "code",
   "execution_count": 56,
   "id": "dc2b5937-1ba8-4a8c-9f8f-ef695f1b9055",
   "metadata": {},
   "outputs": [],
   "source": [
    "input_patterns = np.array([[1,-1],[-1,1]])\n",
    "output_patterns = np.array([[-1,1],[1,-1]])\n",
    "bam.train(input_patterns, output_patterns)"
   ]
  },
  {
   "cell_type": "code",
   "execution_count": 47,
   "id": "c9c939b8-a0f6-4840-9f1f-5019d018c1a8",
   "metadata": {},
   "outputs": [
    {
     "data": {
      "text/plain": [
       "array([[ 1, -1],\n",
       "       [-1,  1]])"
      ]
     },
     "execution_count": 47,
     "metadata": {},
     "output_type": "execute_result"
    }
   ],
   "source": [
    "input_patterns"
   ]
  },
  {
   "cell_type": "code",
   "execution_count": 48,
   "id": "f64c30e3-9941-42f4-b0bb-2964e4974278",
   "metadata": {},
   "outputs": [
    {
     "data": {
      "text/plain": [
       "array([[-1,  1],\n",
       "       [ 1, -1]])"
      ]
     },
     "execution_count": 48,
     "metadata": {},
     "output_type": "execute_result"
    }
   ],
   "source": [
    "output_patterns"
   ]
  },
  {
   "cell_type": "code",
   "execution_count": 57,
   "id": "4209fe6e-b7c0-44f4-bc5d-0f6ec69c3704",
   "metadata": {},
   "outputs": [
    {
     "name": "stdout",
     "output_type": "stream",
     "text": [
      "Input [ 1 -1]\n",
      "Recalled Output [-12.  12.]\n"
     ]
    }
   ],
   "source": [
    "test_input = np.array([1,-1])\n",
    "output_recall = bam.recall_output(test_input)\n",
    "print(\"Input\", test_input)\n",
    "print(\"Recalled Output\", output_recall)"
   ]
  },
  {
   "cell_type": "code",
   "execution_count": 59,
   "id": "9a08f298-b466-4b28-809b-f8ec93f12fbf",
   "metadata": {},
   "outputs": [
    {
     "name": "stdout",
     "output_type": "stream",
     "text": [
      "Input [ 12. -12.]\n",
      "Recalled Output [-1  1]\n"
     ]
    }
   ],
   "source": [
    "test_output = np.array([-1,1])\n",
    "input_recall = bam.recall_input(test_output)\n",
    "print(\"Input\", input_recall)\n",
    "print(\"Recalled Output\", test_output)"
   ]
  },
  {
   "cell_type": "code",
   "execution_count": null,
   "id": "22c2c5a8-02c2-4883-b798-d9b00f0d76a7",
   "metadata": {},
   "outputs": [],
   "source": []
  }
 ],
 "metadata": {
  "kernelspec": {
   "display_name": "Python 3 (ipykernel)",
   "language": "python",
   "name": "python3"
  },
  "language_info": {
   "codemirror_mode": {
    "name": "ipython",
    "version": 3
   },
   "file_extension": ".py",
   "mimetype": "text/x-python",
   "name": "python",
   "nbconvert_exporter": "python",
   "pygments_lexer": "ipython3",
   "version": "3.12.2"
  }
 },
 "nbformat": 4,
 "nbformat_minor": 5
}
