{
 "cells": [
  {
   "cell_type": "code",
   "execution_count": 1,
   "id": "ee4874cf-3614-4719-a81e-c2e5185e54cf",
   "metadata": {},
   "outputs": [],
   "source": [
    "import numpy as np"
   ]
  },
  {
   "cell_type": "code",
   "execution_count": 34,
   "id": "d98e29e5-91ff-4b6f-8012-db3673f56772",
   "metadata": {},
   "outputs": [],
   "source": [
    "#Define input data and target values\n",
    "input_data = np.array([[0,0,0,0,0,0,0],\n",
    "                       [0,0,0,0,0,0,1],\n",
    "                       [0,0,0,0,0,1,0],\n",
    "                       [0,0,0,0,0,1,1],\n",
    "                       [0,0,0,0,1,0,0],\n",
    "                       [0,0,0,0,1,0,1],\n",
    "                       [0,0,0,0,1,1,0],\n",
    "                       [0,0,0,0,1,1,1],\n",
    "                       [0,0,0,1,0,0,0],\n",
    "                       [0,0,0,1,0,0,1]])\n",
    "\n",
    "target_values  = np.array([[1,0],\n",
    "                           [0,1],\n",
    "                           [1,0],\n",
    "                           [0,1],\n",
    "                           [1,0],\n",
    "                           [0,1],\n",
    "                           [1,0],\n",
    "                           [0,1],\n",
    "                           [1,0],\n",
    "                           [0,1]])\n"
   ]
  },
  {
   "cell_type": "code",
   "execution_count": 35,
   "id": "e94f604f-6fae-45ce-88a5-9981ff663e58",
   "metadata": {},
   "outputs": [],
   "source": [
    "# Define the Perceptron NN class\n",
    "class PerceptronNN:\n",
    "    def __init__(self, num_inputs, num_outputs):\n",
    "        self.weights = np.zeros((num_inputs, num_outputs))\n",
    "        self.bias = np.zeros(num_outputs)\n",
    "\n",
    "\n",
    "    def activation(self, x):\n",
    "        return 1 if x>= 0 else 0\n",
    "\n",
    "    def feedforward(self, inputs):\n",
    "        net = np.dot(inputs, self.weights) + self.bias\n",
    "        output = np.array([self.activation(x) for x in net])\n",
    "        return output\n",
    "\n",
    "    def train(self, input_data, target_values, learning_rate, epochs):\n",
    "        for epoch in range(epochs):\n",
    "            errors = 0     #enumerate\n",
    "            for i, input in enumerate(input_data):\n",
    "                target = target_values[i]\n",
    "                output = self.feedforward(input)\n",
    "                error = target - output\n",
    "                self.weights += learning_rate * np.outer(input, error)\n",
    "                self.bias += learning_rate * error\n",
    "                errors += np.abs(error).sum()"
   ]
  },
  {
   "cell_type": "code",
   "execution_count": 37,
   "id": "395174c7-96be-4dc0-b743-08c93925ae2c",
   "metadata": {},
   "outputs": [
    {
     "name": "stdout",
     "output_type": "stream",
     "text": [
      "Odd\n",
      "Even\n",
      "Odd\n"
     ]
    }
   ],
   "source": [
    "# Train the Perceptron NN\n",
    "perceptron_nn = PerceptronNN(num_inputs=7, num_outputs=2)\n",
    "perceptron_nn.train(input_data, target_values, learning_rate = 0.1, epochs=100)\n",
    "\n",
    "#Test the Perceptron NN on some sample inputs\n",
    "input_test = np.array([[0,0,0,0,1,1,1],\n",
    "                       [0,0,0,1,0,0,0],\n",
    "                       [0,0,0,1,0,0,1],])\n",
    "\n",
    "for input in input_test:\n",
    "    output = perceptron_nn.feedforward(input)\n",
    "    if output[0] == 1:\n",
    "        print(\"Even\")\n",
    "    else:\n",
    "        print('Odd')"
   ]
  },
  {
   "cell_type": "code",
   "execution_count": null,
   "id": "07f52b57-c0bd-463b-9b1a-e70024f6fe1b",
   "metadata": {},
   "outputs": [],
   "source": []
  },
  {
   "cell_type": "code",
   "execution_count": null,
   "id": "ff03281b-c170-4755-ad2f-4093652e129f",
   "metadata": {},
   "outputs": [],
   "source": []
  }
 ],
 "metadata": {
  "kernelspec": {
   "display_name": "Python 3 (ipykernel)",
   "language": "python",
   "name": "python3"
  },
  "language_info": {
   "codemirror_mode": {
    "name": "ipython",
    "version": 3
   },
   "file_extension": ".py",
   "mimetype": "text/x-python",
   "name": "python",
   "nbconvert_exporter": "python",
   "pygments_lexer": "ipython3",
   "version": "3.12.2"
  }
 },
 "nbformat": 4,
 "nbformat_minor": 5
}
