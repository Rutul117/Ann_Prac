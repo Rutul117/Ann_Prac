{
 "cells": [
  {
   "cell_type": "code",
   "execution_count": 39,
   "id": "ee4874cf-3614-4719-a81e-c2e5185e54cf",
   "metadata": {},
   "outputs": [],
   "source": [
    "import numpy as np"
   ]
  },
  {
   "cell_type": "code",
   "execution_count": 41,
   "id": "eea3a99f-b279-4c1f-9eb6-02c22e1866c2",
   "metadata": {},
   "outputs": [
    {
     "ename": "TypeError",
     "evalue": "'numpy.ndarray' object is not callable",
     "output_type": "error",
     "traceback": [
      "\u001b[0;31m---------------------------------------------------------------------------\u001b[0m",
      "\u001b[0;31mTypeError\u001b[0m                                 Traceback (most recent call last)",
      "Cell \u001b[0;32mIn[41], line 1\u001b[0m\n\u001b[0;32m----> 1\u001b[0m j \u001b[38;5;241m=\u001b[39m \u001b[38;5;28mint\u001b[39m(\u001b[38;5;28;43minput\u001b[39;49m\u001b[43m(\u001b[49m\u001b[38;5;124;43m\"\u001b[39;49m\u001b[38;5;124;43mEnter number 0-9: \u001b[39;49m\u001b[38;5;124;43m\"\u001b[39;49m\u001b[43m)\u001b[49m)\n",
      "\u001b[0;31mTypeError\u001b[0m: 'numpy.ndarray' object is not callable"
     ]
    }
   ],
   "source": [
    "j = int(input(\"Enter number 0-9: \"))"
   ]
  },
  {
   "cell_type": "code",
   "execution_count": 37,
   "id": "7695bb90-003f-4a9e-ba03-a968c9293e79",
   "metadata": {},
   "outputs": [],
   "source": [
    "step_function = lambda x: 1 if x>=0 else 0\n",
    "\n",
    "training_data = [\n",
    "    {'input': [1,1,0,0,0,0], 'label': 1},\n",
    "    {'input': [1,1,0,0,0,1], 'label': 0},\n",
    "    {'input': [1,1,0,0,1,0], 'label': 1},\n",
    "    {'input': [1,1,0,1,1,1], 'label': 0},\n",
    "    {'input': [1,1,0,1,0,0], 'label': 1},\n",
    "    {'input': [1,1,0,1,0,1], 'label': 0},\n",
    "    {'input': [1,1,0,1,1,0], 'label': 1},\n",
    "    {'input': [1,1,0,1,1,1], 'label': 0},\n",
    "    {'input': [1,1,1,0,0,0], 'label': 1},\n",
    "    {'input': [1,1,1,0,0,1], 'label': 0},\n",
    "]\n"
   ]
  },
  {
   "cell_type": "code",
   "execution_count": 32,
   "id": "fd01dd3c-1616-419e-9a42-af6129f8b2c9",
   "metadata": {},
   "outputs": [],
   "source": [
    "weights = np.array([0,0,0,0,0,1])\n",
    "\n",
    "for data in training_data:\n",
    "    input = np.array(data['input'])\n",
    "    label = data['label']\n",
    "    output = step_function(np.dot(input, weights))\n",
    "    error = label - output\n",
    "    weights += input * error"
   ]
  },
  {
   "cell_type": "code",
   "execution_count": 27,
   "id": "06edcc89-f21a-49b6-b5fb-4569beef85dc",
   "metadata": {},
   "outputs": [
    {
     "name": "stdout",
     "output_type": "stream",
     "text": [
      "5  is  even\n"
     ]
    }
   ],
   "source": [
    "input = np.array([int(x) for x in list('{0:06b}'.format(j))])\n",
    "output = \"odd\" if step_function(np.dot(input, weights))== 0 else \"even\"\n",
    "print(j, \" is \", output)"
   ]
  },
  {
   "cell_type": "code",
   "execution_count": null,
   "id": "a0dfec78-d56d-4404-9f60-f2faffbd8f86",
   "metadata": {},
   "outputs": [],
   "source": []
  },
  {
   "cell_type": "code",
   "execution_count": null,
   "id": "eb25a807-e7fd-46ae-b816-ef51a0bc17c4",
   "metadata": {},
   "outputs": [],
   "source": []
  },
  {
   "cell_type": "code",
   "execution_count": null,
   "id": "c48bdadd-d0cc-44c4-9d8b-04f753b89c51",
   "metadata": {},
   "outputs": [],
   "source": []
  },
  {
   "cell_type": "code",
   "execution_count": null,
   "id": "2f95d363-1fb4-407a-8291-f43dcce621c8",
   "metadata": {},
   "outputs": [],
   "source": []
  },
  {
   "cell_type": "code",
   "execution_count": null,
   "id": "671042bf-1d68-436e-81a8-6c07fe7635a6",
   "metadata": {},
   "outputs": [],
   "source": []
  },
  {
   "cell_type": "code",
   "execution_count": null,
   "id": "a1eee972-3b13-4a9a-848d-5c9d8403e79c",
   "metadata": {},
   "outputs": [],
   "source": []
  },
  {
   "cell_type": "code",
   "execution_count": null,
   "id": "413aafdf-241e-4191-9fa2-aa8c72cd2370",
   "metadata": {},
   "outputs": [],
   "source": []
  },
  {
   "cell_type": "code",
   "execution_count": 13,
   "id": "d98e29e5-91ff-4b6f-8012-db3673f56772",
   "metadata": {},
   "outputs": [],
   "source": [
    "#Define input data and target values\n",
    "input_data = np.array([[0,0,0,0,0,0,0],\n",
    "                       [0,0,0,0,0,0,1],\n",
    "                       [0,0,0,0,0,1,0],\n",
    "                       [0,0,0,0,0,1,1],\n",
    "                       [0,0,0,0,1,0,0],\n",
    "                       [0,0,0,0,1,0,1],\n",
    "                       [0,0,0,0,1,1,0],\n",
    "                       [0,0,0,0,1,1,1],\n",
    "                       [0,0,0,1,0,0,0],\n",
    "                       [0,0,0,1,0,0,1]])\n",
    "\n",
    "target_values  = np.array([[1,0],\n",
    "                           [0,1],\n",
    "                           [1,0],\n",
    "                           [0,1],\n",
    "                           [1,0],\n",
    "                           [0,1],\n",
    "                           [1,0],\n",
    "                           [0,1],\n",
    "                           [1,0],\n",
    "                           [0,1]])\n"
   ]
  },
  {
   "cell_type": "code",
   "execution_count": 14,
   "id": "e94f604f-6fae-45ce-88a5-9981ff663e58",
   "metadata": {},
   "outputs": [],
   "source": [
    "# Define the Perceptron NN class\n",
    "class PerceptronNN:\n",
    "    def __init__(self, num_inputs, num_outputs):\n",
    "        self.weights = np.zeros((num_inputs, num_outputs))\n",
    "        self.bias = np.zeros(num_outputs)\n",
    "\n",
    "\n",
    "    def activation(self, x):\n",
    "        return 1 if x>= 0 else 0\n",
    "\n",
    "    def feedforward(self, inputs):\n",
    "        net = np.dot(inputs, self.weights) + self.bias\n",
    "        output = np.array([self.activation(x) for x in net])\n",
    "        return output\n",
    "\n",
    "    def train(self, input_data, target_values, learning_rate, epochs):\n",
    "        for epoch in range(epochs):\n",
    "            errors = 0     #enumerate\n",
    "            for i, input in enumerate(input_data):\n",
    "                target = target_values[i]\n",
    "                output = self.feedforward(input)\n",
    "                error = target - output\n",
    "                self.weights += learning_rate * np.outer(input, error)\n",
    "                self.bias += learning_rate * error\n",
    "                errors += np.abs(error).sum()"
   ]
  },
  {
   "cell_type": "code",
   "execution_count": 15,
   "id": "395174c7-96be-4dc0-b743-08c93925ae2c",
   "metadata": {},
   "outputs": [
    {
     "name": "stdout",
     "output_type": "stream",
     "text": [
      "Odd\n",
      "Even\n",
      "Odd\n"
     ]
    }
   ],
   "source": [
    "# Train the Perceptron NN\n",
    "perceptron_nn = PerceptronNN(num_inputs=7, num_outputs=2)\n",
    "perceptron_nn.train(input_data, target_values, learning_rate = 0.1, epochs=100)\n",
    "\n",
    "#Test the Perceptron NN on some sample inputs\n",
    "input_test = np.array([[0,0,0,0,1,1,1],\n",
    "                       [0,0,0,1,0,0,0],\n",
    "                       [0,0,0,1,0,0,1],])\n",
    "\n",
    "for input in input_test:\n",
    "    output = perceptron_nn.feedforward(input)\n",
    "    if output[0] == 1:\n",
    "        print(\"Even\")\n",
    "    else:\n",
    "        print('Odd')"
   ]
  },
  {
   "cell_type": "code",
   "execution_count": null,
   "id": "07f52b57-c0bd-463b-9b1a-e70024f6fe1b",
   "metadata": {},
   "outputs": [],
   "source": []
  },
  {
   "cell_type": "code",
   "execution_count": null,
   "id": "ff03281b-c170-4755-ad2f-4093652e129f",
   "metadata": {},
   "outputs": [],
   "source": []
  }
 ],
 "metadata": {
  "kernelspec": {
   "display_name": "Python 3 (ipykernel)",
   "language": "python",
   "name": "python3"
  },
  "language_info": {
   "codemirror_mode": {
    "name": "ipython",
    "version": 3
   },
   "file_extension": ".py",
   "mimetype": "text/x-python",
   "name": "python",
   "nbconvert_exporter": "python",
   "pygments_lexer": "ipython3",
   "version": "3.12.2"
  }
 },
 "nbformat": 4,
 "nbformat_minor": 5
}
