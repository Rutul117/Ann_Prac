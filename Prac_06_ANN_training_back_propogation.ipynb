{
 "cells": [
  {
   "cell_type": "code",
   "execution_count": 25,
   "id": "2d060f8b-c635-45f0-9f1e-811992ea2344",
   "metadata": {},
   "outputs": [],
   "source": [
    "import numpy as np"
   ]
  },
  {
   "cell_type": "code",
   "execution_count": 26,
   "id": "7f801def-fb02-4461-83ba-fd219b4a817a",
   "metadata": {},
   "outputs": [],
   "source": [
    "class NeuralNetwork:\n",
    "    def __init__(self, input_size, hidden_size, output_size):\n",
    "        self.input_size = input_size\n",
    "        self.hidden_size = hidden_size\n",
    "        self.output_size = output_size\n",
    "\n",
    "        self.W1 = np.random.randn(self.input_size, self.hidden_size)\n",
    "        self.W2 = np.random.randn(self.hidden_size, self.output_size)\n",
    "\n",
    "    def sigmoid(self, x):\n",
    "        return 1/(1+np.exp(-x))\n",
    "\n",
    "    def sigmoid_derivative(self, x):\n",
    "        return x*(1-x)\n",
    "\n",
    "    def forward(self, X):\n",
    "        # Calculate output of hidden layer\n",
    "        self.z = np.dot(X, self.W1)\n",
    "        self.z2 = self.sigmoid(self.z)\n",
    "\n",
    "        # Calculate output of output layer\n",
    "        self.z3 = np.dot(self.z2, self.W2)\n",
    "        output = self.sigmoid(self.z3)\n",
    "        return output\n",
    "\n",
    "    def backward(self, X, y, output):\n",
    "        # Calculate the error and derivative of error for output layer\n",
    "        self.output_error = y - output\n",
    "        self.output_delta = self.output_error * self.sigmoid_derivative(output)\n",
    "\n",
    "        # Calculate the error and derivative of error hidden layer\n",
    "        self.z2_error = self.output_delta.dot(self.W2.T)\n",
    "        self.z2_delta = self.z2_error * self.sigmoid_derivative(self.z2)\n",
    "\n",
    "        # update weights\n",
    "        self.W1 += X.T.dot(self.z2_delta)\n",
    "        self.W2 += self.z2.T.dot(self.output_delta)\n",
    "\n",
    "    def train(self, X, y, epochs):\n",
    "        for i in range(epochs):\n",
    "            # Forward propogation\n",
    "            output = self.forward(X)\n",
    "\n",
    "            # Backward propogation\n",
    "            self.backward(X, y, output)\n"
   ]
  },
  {
   "cell_type": "code",
   "execution_count": 27,
   "id": "ee1e3a9f-2e88-4fff-b58c-d6da953dd793",
   "metadata": {},
   "outputs": [],
   "source": [
    "nn = NeuralNetwork(input_size = 2, hidden_size = 3, output_size = 1)"
   ]
  },
  {
   "cell_type": "code",
   "execution_count": 28,
   "id": "d3d17b09-85d8-4b5e-9159-7b7da0f02b94",
   "metadata": {},
   "outputs": [],
   "source": [
    "# Specify train data 'X' anf target output 'y'\n",
    "\n",
    "X = np.array([[0,0],[0,1],[1,0],[1,1]])\n",
    "y = np.array([[0],[1],[1],[0]])\n",
    "\n",
    "# train the network\n",
    "\n",
    "nn.train(X, y, epochs=10000)\n"
   ]
  },
  {
   "cell_type": "code",
   "execution_count": 29,
   "id": "5151d914-8531-4d4a-9b15-b767488e154c",
   "metadata": {},
   "outputs": [
    {
     "name": "stdout",
     "output_type": "stream",
     "text": [
      "[[0.96135012]\n",
      " [0.97942176]\n",
      " [0.67064631]\n",
      " [0.42098186]]\n"
     ]
    }
   ],
   "source": [
    "# Make prediction on new data\n",
    "new_data = np.array([[0,0.5],[0,0.8],[1,0.2],[1,0.6]])\n",
    "predictions = nn.forward(new_data)\n",
    "print(predictions)"
   ]
  },
  {
   "cell_type": "code",
   "execution_count": null,
   "id": "da309878-8790-4835-bbb3-f7d39ebba1b3",
   "metadata": {},
   "outputs": [],
   "source": []
  }
 ],
 "metadata": {
  "kernelspec": {
   "display_name": "Python 3 (ipykernel)",
   "language": "python",
   "name": "python3"
  },
  "language_info": {
   "codemirror_mode": {
    "name": "ipython",
    "version": 3
   },
   "file_extension": ".py",
   "mimetype": "text/x-python",
   "name": "python",
   "nbconvert_exporter": "python",
   "pygments_lexer": "ipython3",
   "version": "3.12.2"
  }
 },
 "nbformat": 4,
 "nbformat_minor": 5
}
